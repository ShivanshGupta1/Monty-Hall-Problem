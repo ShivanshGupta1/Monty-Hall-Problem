{
  "nbformat": 4,
  "nbformat_minor": 0,
  "metadata": {
    "colab": {
      "name": "Monty Hall Problem.ipynb",
      "provenance": [],
      "collapsed_sections": [],
      "authorship_tag": "ABX9TyOC5rqM/JV++gJ2+Uj60jHY",
      "include_colab_link": true
    },
    "kernelspec": {
      "name": "python3",
      "display_name": "Python 3"
    }
  },
  "cells": [
    {
      "cell_type": "markdown",
      "metadata": {
        "id": "view-in-github",
        "colab_type": "text"
      },
      "source": [
        "<a href=\"https://colab.research.google.com/github/ShivanshGupta1/Monty-Hall-Problem/blob/main/Monty_Hall_Problem.ipynb\" target=\"_parent\"><img src=\"https://colab.research.google.com/assets/colab-badge.svg\" alt=\"Open In Colab\"/></a>"
      ]
    },
    {
      "cell_type": "code",
      "metadata": {
        "id": "H6AzSddNgZCz"
      },
      "source": [
        "from random import*\n",
        "a = 10000\n",
        "withs = 0\n",
        "ws = 0\n",
        "while(a>0):\n",
        "  a = a-1\n",
        "  right_door = randint(2,3)\n",
        "  your_choice = randint(2,3)\n",
        "  switch = randint(1,2)\n",
        "  if your_choice==2:\n",
        "    if right_door==2:\n",
        "      if switch==2:\n",
        "        ws = ws+1\n",
        "    elif right_door==3:\n",
        "       if switch==1:\n",
        "        withs = withs+1\n",
        "  elif your_choice==3:\n",
        "    if right_door==2:\n",
        "      if switch==1:\n",
        "        withs = withs+1\n",
        "    elif right_door==3:\n",
        "      if switch==2:\n",
        "        ws = ws+1\n",
        "print(withs/10000*100,\"%\")\n",
        "print(ws/10000*100, \"%\")"
      ],
      "execution_count": null,
      "outputs": []
    }
  ]
}